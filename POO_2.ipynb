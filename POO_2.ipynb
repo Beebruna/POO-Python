{
  "nbformat": 4,
  "nbformat_minor": 0,
  "metadata": {
    "colab": {
      "provenance": [],
      "collapsed_sections": [],
      "mount_file_id": "1Z8YKBXMjYYi-lw0KXs69PCG0aRmcSuPA",
      "authorship_tag": "ABX9TyOASzyD1a0gAd7LLAVWxrgC",
      "include_colab_link": true
    },
    "kernelspec": {
      "name": "python3",
      "display_name": "Python 3"
    },
    "language_info": {
      "name": "python"
    }
  },
  "cells": [
    {
      "cell_type": "markdown",
      "metadata": {
        "id": "view-in-github",
        "colab_type": "text"
      },
      "source": [
        "<a href=\"https://colab.research.google.com/github/Beebruna/POO-Python/blob/main/POO_2.ipynb\" target=\"_parent\"><img src=\"https://colab.research.google.com/assets/colab-badge.svg\" alt=\"Open In Colab\"/></a>"
      ]
    },
    {
      "cell_type": "markdown",
      "source": [
        "https://www.youtube.com/watch?v=gomDSZaay3E&list=PLdIuaPUFVypW2ebIowkYsh8bObwj0tDjR&index=3&ab_channel=HashtagPrograma%C3%A7%C3%A3o"
      ],
      "metadata": {
        "id": "sWyhHjgj3TAn"
      }
    },
    {
      "cell_type": "markdown",
      "source": [
        "# Parte 1"
      ],
      "metadata": {
        "id": "6okwTJLW92X4"
      }
    },
    {
      "cell_type": "code",
      "source": [
        "class ControleRemoto:\n",
        "    #Inicia a classe\n",
        "    #self = faz referência à própria classe\n",
        "    def __init__(self, cor, altura, profundidade, largura):\n",
        "        self.cor = cor\n",
        "        self.altura = altura\n",
        "        self.profundindade = profundidade\n",
        "        self.largura = largura\n",
        "\n",
        "\n",
        "    def passar_canal(self, botao):\n",
        "        if botao == '+':\n",
        "            print('Aumentar o Canal')\n",
        "        elif botao == '-':\n",
        "            print('Diminuir o Canal')\n"
      ],
      "metadata": {
        "id": "TigEzxMa3UoX"
      },
      "execution_count": 1,
      "outputs": []
    },
    {
      "cell_type": "code",
      "source": [
        "controle_remoto1 = ControleRemoto('preto', '10cm', '2cm', '2cm') #Instância da classe"
      ],
      "metadata": {
        "id": "G4oJAKqa6wL-"
      },
      "execution_count": 2,
      "outputs": []
    },
    {
      "cell_type": "code",
      "source": [
        "controle_remoto1.cor"
      ],
      "metadata": {
        "colab": {
          "base_uri": "https://localhost:8080/",
          "height": 36
        },
        "id": "3tofNoOL8Fb5",
        "outputId": "b652e5e3-5fc9-4b52-8cb8-035b70b3d5d6"
      },
      "execution_count": 3,
      "outputs": [
        {
          "output_type": "execute_result",
          "data": {
            "text/plain": [
              "'preto'"
            ],
            "application/vnd.google.colaboratory.intrinsic+json": {
              "type": "string"
            }
          },
          "metadata": {},
          "execution_count": 3
        }
      ]
    },
    {
      "cell_type": "code",
      "source": [
        "controle_remoto1.passar_canal('+')"
      ],
      "metadata": {
        "colab": {
          "base_uri": "https://localhost:8080/"
        },
        "id": "Us8CvMel9lG0",
        "outputId": "476c06d6-e583-40ed-d55e-0a01f6245832"
      },
      "execution_count": 4,
      "outputs": [
        {
          "output_type": "stream",
          "name": "stdout",
          "text": [
            "Aumentar o Canal\n"
          ]
        }
      ]
    },
    {
      "cell_type": "code",
      "source": [
        "controle_remoto2 = ControleRemoto('cinza', '10cm', '2cm', '2cm')"
      ],
      "metadata": {
        "id": "03Gma9By6zfM"
      },
      "execution_count": 5,
      "outputs": []
    },
    {
      "cell_type": "code",
      "source": [
        "controle_remoto2.cor"
      ],
      "metadata": {
        "colab": {
          "base_uri": "https://localhost:8080/",
          "height": 36
        },
        "id": "m4gE3mes8ZYm",
        "outputId": "5d15e0c3-6a0f-441c-b349-61aee7515695"
      },
      "execution_count": 6,
      "outputs": [
        {
          "output_type": "execute_result",
          "data": {
            "text/plain": [
              "'cinza'"
            ],
            "application/vnd.google.colaboratory.intrinsic+json": {
              "type": "string"
            }
          },
          "metadata": {},
          "execution_count": 6
        }
      ]
    },
    {
      "cell_type": "code",
      "source": [
        "controle_remoto1.passar_canal('-')"
      ],
      "metadata": {
        "colab": {
          "base_uri": "https://localhost:8080/"
        },
        "id": "pCxA4u-b9s2H",
        "outputId": "2676ac3c-6d2b-41c1-eb68-ff8e36ea561d"
      },
      "execution_count": 7,
      "outputs": [
        {
          "output_type": "stream",
          "name": "stdout",
          "text": [
            "Diminuir o Canal\n"
          ]
        }
      ]
    },
    {
      "cell_type": "markdown",
      "source": [
        "# Parte 2"
      ],
      "metadata": {
        "id": "iASIFBMK96Nn"
      }
    },
    {
      "cell_type": "markdown",
      "source": [
        "Vamos crir uma classe para Clientes da Netflix"
      ],
      "metadata": {
        "id": "2orHOtrA99Fn"
      }
    },
    {
      "cell_type": "code",
      "source": [
        "class Cliente:\n",
        "    def __init__(self, nome, email, plano):\n",
        "        self.nome = nome\n",
        "        self.email = email\n",
        "        self.lista_planos = ['basic', 'premium']\n",
        "        if plano in self.lista_planos:\n",
        "            self.plano = plano\n",
        "        else:\n",
        "           raise Exception('Plano Inválido')\n",
        "\n",
        "\n",
        "    def mudar_plano(self, novo_plano):\n",
        "        if novo_plano in self.lista_planos:\n",
        "            self.plano = novo_plano\n",
        "        else:\n",
        "            print('Plano Inválido')\n",
        "\n",
        "\n",
        "    def ver_filme(self, filme, plano_filme):\n",
        "        if self.plano == plano_filme:\n",
        "            print(f'Ver Filme {filme}')\n",
        "        elif self.plano == 'premium':\n",
        "            print(f'Ver Filme {filme}')\n",
        "        elif self.plano == 'basic' and plano_filme == 'premium':\n",
        "            print('Faça upgrade para premium para ver esse filme')\n",
        "        else:\n",
        "            print('Plano Inválido')"
      ],
      "metadata": {
        "id": "St984v0p95-P"
      },
      "execution_count": 46,
      "outputs": []
    },
    {
      "cell_type": "code",
      "source": [
        "cliente = Cliente('Lira', 'lira@gmail.com', 'blabla')"
      ],
      "metadata": {
        "colab": {
          "base_uri": "https://localhost:8080/",
          "height": 252
        },
        "id": "ANzqpw17-Phz",
        "outputId": "c6a00f95-531a-4a97-8259-b6da852ed06a"
      },
      "execution_count": 9,
      "outputs": [
        {
          "output_type": "error",
          "ename": "Exception",
          "evalue": "ignored",
          "traceback": [
            "\u001b[0;31m---------------------------------------------------------------------------\u001b[0m",
            "\u001b[0;31mException\u001b[0m                                 Traceback (most recent call last)",
            "\u001b[0;32m<ipython-input-9-c4f12e969d9d>\u001b[0m in \u001b[0;36m<module>\u001b[0;34m\u001b[0m\n\u001b[0;32m----> 1\u001b[0;31m \u001b[0mcliente\u001b[0m \u001b[0;34m=\u001b[0m \u001b[0mCliente\u001b[0m\u001b[0;34m(\u001b[0m\u001b[0;34m'Lira'\u001b[0m\u001b[0;34m,\u001b[0m \u001b[0;34m'lira@gmail.com'\u001b[0m\u001b[0;34m,\u001b[0m \u001b[0;34m'blabla'\u001b[0m\u001b[0;34m)\u001b[0m\u001b[0;34m\u001b[0m\u001b[0;34m\u001b[0m\u001b[0m\n\u001b[0m",
            "\u001b[0;32m<ipython-input-8-f7e2176872cc>\u001b[0m in \u001b[0;36m__init__\u001b[0;34m(self, nome, email, plano)\u001b[0m\n\u001b[1;32m      7\u001b[0m             \u001b[0mself\u001b[0m\u001b[0;34m.\u001b[0m\u001b[0mplano\u001b[0m \u001b[0;34m=\u001b[0m \u001b[0mplano\u001b[0m\u001b[0;34m\u001b[0m\u001b[0;34m\u001b[0m\u001b[0m\n\u001b[1;32m      8\u001b[0m         \u001b[0;32melse\u001b[0m\u001b[0;34m:\u001b[0m\u001b[0;34m\u001b[0m\u001b[0;34m\u001b[0m\u001b[0m\n\u001b[0;32m----> 9\u001b[0;31m            \u001b[0;32mraise\u001b[0m \u001b[0mException\u001b[0m\u001b[0;34m(\u001b[0m\u001b[0;34m'Plano Inválido'\u001b[0m\u001b[0;34m)\u001b[0m\u001b[0;34m\u001b[0m\u001b[0;34m\u001b[0m\u001b[0m\n\u001b[0m",
            "\u001b[0;31mException\u001b[0m: Plano Inválido"
          ]
        }
      ]
    },
    {
      "cell_type": "code",
      "source": [
        "cliente.nome"
      ],
      "metadata": {
        "colab": {
          "base_uri": "https://localhost:8080/",
          "height": 165
        },
        "id": "eNdjN9Sn_Ldn",
        "outputId": "4ade0f2a-885a-44e8-b496-2ff27fff033d"
      },
      "execution_count": 10,
      "outputs": [
        {
          "output_type": "error",
          "ename": "NameError",
          "evalue": "ignored",
          "traceback": [
            "\u001b[0;31m---------------------------------------------------------------------------\u001b[0m",
            "\u001b[0;31mNameError\u001b[0m                                 Traceback (most recent call last)",
            "\u001b[0;32m<ipython-input-10-af3724e1243a>\u001b[0m in \u001b[0;36m<module>\u001b[0;34m\u001b[0m\n\u001b[0;32m----> 1\u001b[0;31m \u001b[0mcliente\u001b[0m\u001b[0;34m.\u001b[0m\u001b[0mnome\u001b[0m\u001b[0;34m\u001b[0m\u001b[0;34m\u001b[0m\u001b[0m\n\u001b[0m",
            "\u001b[0;31mNameError\u001b[0m: name 'cliente' is not defined"
          ]
        }
      ]
    },
    {
      "cell_type": "code",
      "source": [
        "cliente = Cliente('Lira', 'lira@gmail.com', 'basic')"
      ],
      "metadata": {
        "id": "AM9hwrLggsGk"
      },
      "execution_count": 47,
      "outputs": []
    },
    {
      "cell_type": "code",
      "source": [
        "cliente.plano"
      ],
      "metadata": {
        "colab": {
          "base_uri": "https://localhost:8080/",
          "height": 36
        },
        "id": "DjhndTL5gRw_",
        "outputId": "64b553a3-4d90-45ac-e2d7-55c9c158bfb9"
      },
      "execution_count": 48,
      "outputs": [
        {
          "output_type": "execute_result",
          "data": {
            "text/plain": [
              "'basic'"
            ],
            "application/vnd.google.colaboratory.intrinsic+json": {
              "type": "string"
            }
          },
          "metadata": {},
          "execution_count": 48
        }
      ]
    },
    {
      "cell_type": "code",
      "source": [
        "cliente.mudar_plano('premium')"
      ],
      "metadata": {
        "id": "mHP_ky-OiDpL"
      },
      "execution_count": 49,
      "outputs": []
    },
    {
      "cell_type": "code",
      "source": [
        "cliente.plano"
      ],
      "metadata": {
        "colab": {
          "base_uri": "https://localhost:8080/",
          "height": 36
        },
        "id": "7A9Ph3iYiHol",
        "outputId": "31787259-120f-4fea-bf3c-7ecfaba9c2f7"
      },
      "execution_count": 50,
      "outputs": [
        {
          "output_type": "execute_result",
          "data": {
            "text/plain": [
              "'premium'"
            ],
            "application/vnd.google.colaboratory.intrinsic+json": {
              "type": "string"
            }
          },
          "metadata": {},
          "execution_count": 50
        }
      ]
    },
    {
      "cell_type": "code",
      "source": [
        "cliente.mudar_plano('blablaba')"
      ],
      "metadata": {
        "colab": {
          "base_uri": "https://localhost:8080/"
        },
        "id": "Y42VvyYKiWcN",
        "outputId": "6db67215-da4d-4ad0-99ab-a6ee0d8d382b"
      },
      "execution_count": 51,
      "outputs": [
        {
          "output_type": "stream",
          "name": "stdout",
          "text": [
            "Plano Inválido\n"
          ]
        }
      ]
    },
    {
      "cell_type": "code",
      "source": [
        "cliente.plano"
      ],
      "metadata": {
        "colab": {
          "base_uri": "https://localhost:8080/",
          "height": 36
        },
        "id": "h33BSxDBiZfz",
        "outputId": "7931eb3a-2245-42b7-ae1a-16207ce41e76"
      },
      "execution_count": 52,
      "outputs": [
        {
          "output_type": "execute_result",
          "data": {
            "text/plain": [
              "'premium'"
            ],
            "application/vnd.google.colaboratory.intrinsic+json": {
              "type": "string"
            }
          },
          "metadata": {},
          "execution_count": 52
        }
      ]
    },
    {
      "cell_type": "code",
      "source": [
        "cliente.mudar_plano('basic')"
      ],
      "metadata": {
        "id": "kOusnDChkpn1"
      },
      "execution_count": 53,
      "outputs": []
    },
    {
      "cell_type": "code",
      "source": [
        "cliente.ver_filme('Harry Potter', 'premium')"
      ],
      "metadata": {
        "colab": {
          "base_uri": "https://localhost:8080/"
        },
        "id": "ejen5NYOj6Uc",
        "outputId": "530f1688-e8b9-4dd3-df12-f96ac3146147"
      },
      "execution_count": 54,
      "outputs": [
        {
          "output_type": "stream",
          "name": "stdout",
          "text": [
            "Faça upgrade para premium para ver esse filme\n"
          ]
        }
      ]
    },
    {
      "cell_type": "code",
      "source": [
        "cliente.mudar_plano('premium')"
      ],
      "metadata": {
        "id": "QQ_IZIYIlhxl"
      },
      "execution_count": 56,
      "outputs": []
    },
    {
      "cell_type": "code",
      "source": [
        "cliente.ver_filme('Harry Potter', 'premium')"
      ],
      "metadata": {
        "colab": {
          "base_uri": "https://localhost:8080/"
        },
        "id": "SXwK9Am_lkZN",
        "outputId": "d385de8d-a510-47e1-b5aa-e4fd8013031f"
      },
      "execution_count": 57,
      "outputs": [
        {
          "output_type": "stream",
          "name": "stdout",
          "text": [
            "Ver Filme Harry Potter\n"
          ]
        }
      ]
    }
  ]
}