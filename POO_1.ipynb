{
  "nbformat": 4,
  "nbformat_minor": 0,
  "metadata": {
    "colab": {
      "provenance": [],
      "authorship_tag": "ABX9TyPuFPRRplH17cen/yhRzL3g",
      "include_colab_link": true
    },
    "kernelspec": {
      "name": "python3",
      "display_name": "Python 3"
    },
    "language_info": {
      "name": "python"
    }
  },
  "cells": [
    {
      "cell_type": "markdown",
      "metadata": {
        "id": "view-in-github",
        "colab_type": "text"
      },
      "source": [
        "<a href=\"https://colab.research.google.com/github/Beebruna/POO-Python/blob/main/POO_1.ipynb\" target=\"_parent\"><img src=\"https://colab.research.google.com/assets/colab-badge.svg\" alt=\"Open In Colab\"/></a>"
      ]
    },
    {
      "cell_type": "markdown",
      "source": [
        "https://www.youtube.com/watch?v=j6B8shHXzks&ab_channel=DevAprender"
      ],
      "metadata": {
        "id": "Jg1gzxk93V7f"
      }
    },
    {
      "cell_type": "markdown",
      "source": [
        "init = construtor <p>\n",
        "self = permite acessar as propriedades (atributos ou métodos) de uma instância"
      ],
      "metadata": {
        "id": "Ry-SkwUi5oOM"
      }
    },
    {
      "cell_type": "markdown",
      "source": [
        "# Parte 1"
      ],
      "metadata": {
        "id": "QLSsTqNg60dt"
      }
    },
    {
      "cell_type": "code",
      "execution_count": 1,
      "metadata": {
        "id": "WkMswbqT3UFo"
      },
      "outputs": [],
      "source": [
        "class Computador:\n",
        "    def __init__(self):\n",
        "        self.marca = 'Asus'\n",
        "        self.memoria_ram = '8Gb'\n",
        "        self.placa_de_video = 'Nvidia'"
      ]
    },
    {
      "cell_type": "code",
      "source": [
        "computador1 = Computador()\n",
        "computador2 = Computador()\n",
        "computador3 = Computador()"
      ],
      "metadata": {
        "id": "bilA1KPp5Z1U"
      },
      "execution_count": 2,
      "outputs": []
    },
    {
      "cell_type": "code",
      "source": [
        "computador1.marca"
      ],
      "metadata": {
        "colab": {
          "base_uri": "https://localhost:8080/",
          "height": 36
        },
        "id": "c8-vGLBz6HOj",
        "outputId": "2c823840-e6e8-42ef-b15d-e823d9929e74"
      },
      "execution_count": 3,
      "outputs": [
        {
          "output_type": "execute_result",
          "data": {
            "text/plain": [
              "'Asus'"
            ],
            "application/vnd.google.colaboratory.intrinsic+json": {
              "type": "string"
            }
          },
          "metadata": {},
          "execution_count": 3
        }
      ]
    },
    {
      "cell_type": "markdown",
      "source": [
        "A classe deve ser dinâmica. Deve se modelar à situação onde estiver sendo usada."
      ],
      "metadata": {
        "id": "ZrF_yqu16mlP"
      }
    },
    {
      "cell_type": "code",
      "source": [
        "print(computador1.marca, computador1.memoria_ram, computador1.placa_de_video)\n",
        "print(computador2.marca, computador2.memoria_ram, computador2.placa_de_video)\n",
        "print(computador3.marca, computador3.memoria_ram, computador3.placa_de_video)"
      ],
      "metadata": {
        "colab": {
          "base_uri": "https://localhost:8080/"
        },
        "id": "zwjivj8o6SYF",
        "outputId": "9333b8bd-13b6-470b-c459-62b4e9a9cf5d"
      },
      "execution_count": 4,
      "outputs": [
        {
          "output_type": "stream",
          "name": "stdout",
          "text": [
            "Asus 8Gb Nvidia\n",
            "Asus 8Gb Nvidia\n",
            "Asus 8Gb Nvidia\n"
          ]
        }
      ]
    },
    {
      "cell_type": "markdown",
      "source": [
        "# Parte 2"
      ],
      "metadata": {
        "id": "9nqKUCDL63ie"
      }
    },
    {
      "cell_type": "code",
      "source": [
        "class Computador:\n",
        "    def __init__(self, marca, memoria_ram, placa_de_video):\n",
        "        self.marca = marca\n",
        "        self.memoria_ram = memoria_ram\n",
        "        self.placa_de_video = placa_de_video\n",
        "\n",
        "\n",
        "    def Ligar(self):\n",
        "        print('Estou ligando...')\n",
        "\n",
        "\n",
        "    def Desligar(self):\n",
        "        print('Estou desligando...')\n",
        "\n",
        "\n",
        "    def ExibirInformacoesDesteComputador(self):\n",
        "        print(self.marca, self.memoria_ram, self.placa_de_video)"
      ],
      "metadata": {
        "id": "hL-t7Xs86jpj"
      },
      "execution_count": 12,
      "outputs": []
    },
    {
      "cell_type": "code",
      "source": [
        "computador1 = Computador('Asus', '8Gb', 'Nvidia')\n",
        "computador2 = Computador('Dell', '10Gb', 'GeForce')\n",
        "computador3 = Computador('Acer', '16Gb', 'ATM')"
      ],
      "metadata": {
        "id": "pI26AM8G7Fkw"
      },
      "execution_count": 13,
      "outputs": []
    },
    {
      "cell_type": "code",
      "source": [
        "print(computador1.marca, computador1.memoria_ram, computador1.placa_de_video)\n",
        "print(computador2.marca, computador2.memoria_ram, computador2.placa_de_video)\n",
        "print(computador3.marca, computador3.memoria_ram, computador3.placa_de_video)"
      ],
      "metadata": {
        "colab": {
          "base_uri": "https://localhost:8080/"
        },
        "outputId": "8f5a77fa-05ea-4e2d-e1ab-c583f9f4588f",
        "id": "gRPmU5mg7ZJ5"
      },
      "execution_count": 14,
      "outputs": [
        {
          "output_type": "stream",
          "name": "stdout",
          "text": [
            "Asus 8Gb Nvidia\n",
            "Dell 10Gb GeForce\n",
            "Acer 16Gb ATM\n"
          ]
        }
      ]
    },
    {
      "cell_type": "code",
      "source": [
        "computador1.Ligar()\n",
        "computador1.Desligar()\n",
        "computador1.ExibirInformacoesDesteComputador()"
      ],
      "metadata": {
        "colab": {
          "base_uri": "https://localhost:8080/"
        },
        "id": "2dN9l4tx8Jck",
        "outputId": "3d0a5ebb-8732-4d9d-cdd6-2c53d0ccf3db"
      },
      "execution_count": 15,
      "outputs": [
        {
          "output_type": "stream",
          "name": "stdout",
          "text": [
            "Estou ligando...\n",
            "Estou desligando...\n",
            "Asus 8Gb Nvidia\n"
          ]
        }
      ]
    }
  ]
}